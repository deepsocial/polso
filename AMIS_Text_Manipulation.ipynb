{
 "cells": [
  {
   "cell_type": "code",
   "execution_count": 171,
   "metadata": {
    "collapsed": false
   },
   "outputs": [
    {
     "name": "stdout",
     "output_type": "stream",
     "text": [
      "[nltk_data] Downloading package punkt to /Users/mrpozzi/nltk_data...\n",
      "[nltk_data]   Package punkt is already up-to-date!\n",
      "[nltk_data] Downloading package stopwords to\n",
      "[nltk_data]     /Users/mrpozzi/nltk_data...\n",
      "[nltk_data]   Unzipping corpora/stopwords.zip.\n"
     ]
    }
   ],
   "source": [
    "%matplotlib inline\n",
    "import matplotlib\n",
    "import matplotlib.pyplot as plt\n",
    "from mpl_toolkits.basemap import Basemap, cm\n",
    "from matplotlib.path import Path\n",
    "\n",
    "matplotlib.style.use('ggplot')\n",
    "\n",
    "import math\n",
    "import time\n",
    "import datetime\n",
    "import json\n",
    "\n",
    "from pandas import DataFrame, Series\n",
    "import pandas as pd\n",
    "import numpy as np\n",
    "\n",
    "import nltk\n",
    "from nltk.tokenize import word_tokenize\n",
    "from nltk.corpus import stopwords\n",
    "nltk.download('punkt')\n",
    "nltk.download('stopwords')\n",
    "\n",
    "import re\n",
    "import string\n",
    "regex = re.compile('[%s]' % re.escape(string.punctuation)) \n",
    "\n"
   ]
  },
  {
   "cell_type": "code",
   "execution_count": 102,
   "metadata": {
    "collapsed": false
   },
   "outputs": [
    {
     "name": "stdout",
     "output_type": "stream",
     "text": [
      "  116545 amis_articles.jsonl\r\n"
     ]
    }
   ],
   "source": [
    "!wc -l amis_articles.jsonl"
   ]
  },
  {
   "cell_type": "code",
   "execution_count": 183,
   "metadata": {
    "collapsed": false
   },
   "outputs": [
    {
     "data": {
      "text/plain": [
       "3.7722117433333335"
      ]
     },
     "execution_count": 183,
     "metadata": {},
     "output_type": "execute_result"
    }
   ],
   "source": [
    "finish_time = datetime.datetime(2016, 7, 8, 2, 8, 58, 168279)\n",
    "start_time = datetime.datetime(2016, 7, 7, 22, 22, 38, 206003)\n",
    "(finish_time - start_time).total_seconds() / 60 / 60"
   ]
  },
  {
   "cell_type": "code",
   "execution_count": 166,
   "metadata": {
    "collapsed": false
   },
   "outputs": [
    {
     "data": {
      "text/html": [
       "<div style=\"max-height:1000px;max-width:1500px;overflow:auto;\">\n",
       "<table border=\"1\" class=\"dataframe\">\n",
       "  <thead>\n",
       "    <tr style=\"text-align: right;\">\n",
       "      <th></th>\n",
       "      <th>article</th>\n",
       "      <th>date</th>\n",
       "      <th>link</th>\n",
       "      <th>source</th>\n",
       "      <th>title</th>\n",
       "    </tr>\n",
       "  </thead>\n",
       "  <tbody>\n",
       "    <tr>\n",
       "      <th>0</th>\n",
       "      <td> Puerto Rico Governor Alejandro Garcia Padilla ...</td>\n",
       "      <td> 2016-06-30 00:00:00</td>\n",
       "      <td> http://www.bloomberg.com/news/articles/2016-06...</td>\n",
       "      <td> bloomberg</td>\n",
       "      <td> Puerto Rico Faces Record Default: A Look at th...</td>\n",
       "    </tr>\n",
       "    <tr>\n",
       "      <th>1</th>\n",
       "      <td> Chinas official factory gauge retreated to the...</td>\n",
       "      <td> 2016-07-01 00:00:00</td>\n",
       "      <td> http://www.bloomberg.com/news/articles/2016-07...</td>\n",
       "      <td> bloomberg</td>\n",
       "      <td> China Manufacturing Treading Water With PMI Sl...</td>\n",
       "    </tr>\n",
       "    <tr>\n",
       "      <th>2</th>\n",
       "      <td> A deadlocked Supreme Court has effectively squ...</td>\n",
       "      <td> 2016-06-30 00:00:00</td>\n",
       "      <td> http://www.bloomberg.com/news/articles/2016-06...</td>\n",
       "      <td> bloomberg</td>\n",
       "      <td>   The Long Road to Immigration Reform - Bloomberg</td>\n",
       "    </tr>\n",
       "    <tr>\n",
       "      <th>3</th>\n",
       "      <td> Hershey Co. snubbed a preliminary takeover off...</td>\n",
       "      <td> 2016-06-30 00:00:00</td>\n",
       "      <td> http://www.bloomberg.com/news/articles/2016-06...</td>\n",
       "      <td> bloomberg</td>\n",
       "      <td> Hershey Board Rejects $23 Billion Takeover Bid...</td>\n",
       "    </tr>\n",
       "    <tr>\n",
       "      <th>4</th>\n",
       "      <td> As the U.S. recovery lumbers into its eighth y...</td>\n",
       "      <td> 2016-06-30 00:00:00</td>\n",
       "      <td> http://www.bloomberg.com/news/articles/2016-06...</td>\n",
       "      <td> bloomberg</td>\n",
       "      <td> Americans With More Education Have Taken Almos...</td>\n",
       "    </tr>\n",
       "  </tbody>\n",
       "</table>\n",
       "</div>"
      ],
      "text/plain": [
       "                                             article                 date  \\\n",
       "0  Puerto Rico Governor Alejandro Garcia Padilla ...  2016-06-30 00:00:00   \n",
       "1  Chinas official factory gauge retreated to the...  2016-07-01 00:00:00   \n",
       "2  A deadlocked Supreme Court has effectively squ...  2016-06-30 00:00:00   \n",
       "3  Hershey Co. snubbed a preliminary takeover off...  2016-06-30 00:00:00   \n",
       "4  As the U.S. recovery lumbers into its eighth y...  2016-06-30 00:00:00   \n",
       "\n",
       "                                                link     source  \\\n",
       "0  http://www.bloomberg.com/news/articles/2016-06...  bloomberg   \n",
       "1  http://www.bloomberg.com/news/articles/2016-07...  bloomberg   \n",
       "2  http://www.bloomberg.com/news/articles/2016-06...  bloomberg   \n",
       "3  http://www.bloomberg.com/news/articles/2016-06...  bloomberg   \n",
       "4  http://www.bloomberg.com/news/articles/2016-06...  bloomberg   \n",
       "\n",
       "                                               title  \n",
       "0  Puerto Rico Faces Record Default: A Look at th...  \n",
       "1  China Manufacturing Treading Water With PMI Sl...  \n",
       "2    The Long Road to Immigration Reform - Bloomberg  \n",
       "3  Hershey Board Rejects $23 Billion Takeover Bid...  \n",
       "4  Americans With More Education Have Taken Almos...  "
      ]
     },
     "execution_count": 166,
     "metadata": {},
     "output_type": "execute_result"
    }
   ],
   "source": [
    "#version = \"\"\n",
    "version = \"_07_07_2016\"\n",
    "with open('amis_articles{0}.jsonl'.format(version)) as f:\n",
    "    articles = pd.DataFrame(json.loads(line) for line in f)\n",
    "\n",
    "articles['date'] = pd.to_datetime(articles['date'])\n",
    "articles['timestamp'] = articles['date'].apply(lambda d: time.mktime(d.timetuple()))\n",
    "articles = articles.sort('date', ascending=1)\n",
    "\n",
    "articles['raw_article'] = articles['article'] \n",
    "\n",
    "sources = list(articles['source'].unique())\n",
    "    \n",
    "articles.head(5)\n",
    "\n"
   ]
  },
  {
   "cell_type": "code",
   "execution_count": null,
   "metadata": {
    "collapsed": true
   },
   "outputs": [],
   "source": []
  },
  {
   "cell_type": "code",
   "execution_count": 168,
   "metadata": {
    "collapsed": true
   },
   "outputs": [],
   "source": []
  },
  {
   "cell_type": "code",
   "execution_count": 173,
   "metadata": {
    "collapsed": false
   },
   "outputs": [
    {
     "data": {
      "text/plain": [
       "0    [puerto, rico, governor, alejandro, garcia, pa...\n",
       "1    [chinas, official, factory, gauge, retreated, ...\n",
       "2    [deadlocked, supreme, court, effectively, squa...\n",
       "3    [hershey, co, snubbed, preliminary, takeover, ...\n",
       "4    [us, recovery, lumbers, eighth, year, american...\n",
       "Name: article, dtype: object"
      ]
     },
     "execution_count": 173,
     "metadata": {},
     "output_type": "execute_result"
    }
   ],
   "source": [
    "# process the articles\n",
    "def clean_and_tokenize_article(article):\n",
    "    tokenized_article = word_tokenize(article)\n",
    "    tokenized_article = [regex.sub(u'', token).lower() for token in tokenized_article]\n",
    "    tokenized_article = filter(lambda x: not x in stopwords.words('english') + [u''], tokenized_article)\n",
    "    return tokenized_article\n",
    "\n",
    "articles['article'] = articles['raw_article'].apply(clean_and_tokenize_article)\n",
    "articles['article'].head(5)\n"
   ]
  },
  {
   "cell_type": "code",
   "execution_count": null,
   "metadata": {
    "collapsed": true
   },
   "outputs": [],
   "source": []
  },
  {
   "cell_type": "code",
   "execution_count": null,
   "metadata": {
    "collapsed": true
   },
   "outputs": [],
   "source": []
  },
  {
   "cell_type": "code",
   "execution_count": null,
   "metadata": {
    "collapsed": true
   },
   "outputs": [],
   "source": [
    "#duration_by_distance = labeled_data\\\n",
    "#    .groupby(pd.qcut(labeled_data.trip_distance, 10)).log_duration.mean()\n"
   ]
  }
 ],
 "metadata": {
  "kernelspec": {
   "display_name": "Python 2",
   "language": "python",
   "name": "python2"
  },
  "language_info": {
   "codemirror_mode": {
    "name": "ipython",
    "version": 2
   },
   "file_extension": ".py",
   "mimetype": "text/x-python",
   "name": "python",
   "nbconvert_exporter": "python",
   "pygments_lexer": "ipython2",
   "version": "2.7.11"
  }
 },
 "nbformat": 4,
 "nbformat_minor": 0
}
