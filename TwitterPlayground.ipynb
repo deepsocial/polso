{
 "cells": [
  {
   "cell_type": "code",
   "execution_count": 7,
   "metadata": {
    "collapsed": false
   },
   "outputs": [],
   "source": [
    "import datetime\n",
    "from twython import Twython\n",
    "from oauth_setup import oauth_login\n",
    "\n",
    "t = oauth_login()\n",
    "WORLD_WOE_ID = 1  # The Yahoo! Where On Earth ID for the entire world\n",
    "\n"
   ]
  },
  {
   "cell_type": "code",
   "execution_count": 9,
   "metadata": {
    "collapsed": false
   },
   "outputs": [],
   "source": [
    "now = str(datetime.datetime.now())\n",
    "#trends = json.dumps(t.trends._(1)(), indent=1)\n",
    "trends = t.trends.place(_id=WORLD_WOE_ID)\n",
    "\n"
   ]
  },
  {
   "cell_type": "code",
   "execution_count": 11,
   "metadata": {
    "collapsed": false
   },
   "outputs": [
    {
     "data": {
      "text/plain": [
       "4"
      ]
     },
     "execution_count": 11,
     "metadata": {},
     "output_type": "execute_result"
    }
   ],
   "source": [
    "len(trends[0])"
   ]
  },
  {
   "cell_type": "code",
   "execution_count": 14,
   "metadata": {
    "collapsed": false
   },
   "outputs": [
    {
     "data": {
      "text/plain": [
       "[{u'name': u'Worldwide', u'woeid': 1}]"
      ]
     },
     "execution_count": 14,
     "metadata": {},
     "output_type": "execute_result"
    }
   ],
   "source": [
    "trends[0]['locations']"
   ]
  },
  {
   "cell_type": "code",
   "execution_count": 20,
   "metadata": {
    "collapsed": false
   },
   "outputs": [
    {
     "data": {
      "text/plain": [
       "[1, '23424977', '23424748', '2347563', '23424803', '23424975']"
      ]
     },
     "execution_count": 20,
     "metadata": {},
     "output_type": "execute_result"
    }
   ],
   "source": [
    "['US','AU','CA','IE','GB']\n",
    "\n",
    "import yweather\n",
    "client = yweather.Client()\n",
    "countries = ['US','AU','CA','IE','GB']\n",
    "\n",
    "WORLD_WOE_IDS = [1] + [client.fetch_woeid(id) for id in countries]\n",
    "WORLD_WOE_IDS\n"
   ]
  },
  {
   "cell_type": "code",
   "execution_count": 29,
   "metadata": {
    "collapsed": false
   },
   "outputs": [
    {
     "data": {
      "text/plain": [
       "{1: '[\\n {\\n  \"created_at\": \"2016-06-15T21:21:17Z\", \\n  \"trends\": [\\n   {\\n    \"url\": \"http://twitter.com/search?q=%23FRAALB\", \\n    \"query\": \"%23FRAALB\", \\n    \"tweet_volume\": 467932, \\n    \"name\": \"#FRAALB\", \\n    \"promoted_content\": null\\n   }, \\n   {\\n    \"url\": \"http://twitter.com/search?q=Griezmann\", \\n    \"query\": \"Griezmann\", \\n    \"tweet_volume\": 163247, \\n    \"name\": \"Griezmann\", \\n    \"promoted_content\": null\\n   }, \\n   {\\n    \"url\": \"http://twitter.com/search?q=%23filibuster\", \\n    \"query\": \"%23filibuster\", \\n    \"tweet_volume\": 48901, \\n    \"name\": \"#filibuster\", \\n    \"promoted_content\": null\\n   }, \\n   {\\n    \"url\": \"http://twitter.com/search?q=Gignac\", \\n    \"query\": \"Gignac\", \\n    \"tweet_volume\": 41019, \\n    \"name\": \"Gignac\", \\n    \"promoted_content\": null\\n   }, \\n   {\\n    \"url\": \"http://twitter.com/search?q=%23LyricsThatHaveToBeShouted\", \\n    \"query\": \"%23LyricsThatHaveToBeShouted\", \\n    \"tweet_volume\": 244844, \\n    \"name\": \"#LyricsThatHaveToBeShouted\", \\n    \"promoted_content\": null\\n   }, \\n   {\\n    \"url\": \"http://twitter.com/search?q=%23VisAVis12\", \\n    \"query\": \"%23VisAVis12\", \\n    \"tweet_volume\": 13268, \\n    \"name\": \"#VisAVis12\", \\n    \"promoted_content\": null\\n   }, \\n   {\\n    \"url\": \"http://twitter.com/search?q=%23PoyrazKarayelSezonFinali\", \\n    \"query\": \"%23PoyrazKarayelSezonFinali\", \\n    \"tweet_volume\": 55067, \\n    \"name\": \"#PoyrazKarayelSezonFinali\", \\n    \"promoted_content\": null\\n   }, \\n   {\\n    \"url\": \"http://twitter.com/search?q=Martial\", \\n    \"query\": \"Martial\", \\n    \"tweet_volume\": 88233, \\n    \"name\": \"Martial\", \\n    \"promoted_content\": null\\n   }, \\n   {\\n    \"url\": \"http://twitter.com/search?q=Coman\", \\n    \"query\": \"Coman\", \\n    \"tweet_volume\": 64196, \\n    \"name\": \"Coman\", \\n    \"promoted_content\": null\\n   }, \\n   {\\n    \"url\": \"http://twitter.com/search?q=%22Roberto+de+Andrade%22\", \\n    \"query\": \"%22Roberto+de+Andrade%22\", \\n    \"tweet_volume\": null, \\n    \"name\": \"Roberto de Andrade\", \\n    \"promoted_content\": null\\n   }, \\n   {\\n    \"url\": \"http://twitter.com/search?q=%22R%C3%B3mulo+Gallegos%22\", \\n    \"query\": \"%22R%C3%B3mulo+Gallegos%22\", \\n    \"tweet_volume\": 35475, \\n    \"name\": \"R\\\\u00f3mulo Gallegos\", \\n    \"promoted_content\": null\\n   }, \\n   {\\n    \"url\": \"http://twitter.com/search?q=%22Gol+de+Francia%22\", \\n    \"query\": \"%22Gol+de+Francia%22\", \\n    \"tweet_volume\": null, \\n    \"name\": \"Gol de Francia\", \\n    \"promoted_content\": null\\n   }, \\n   {\\n    \"url\": \"http://twitter.com/search?q=Sagna\", \\n    \"query\": \"Sagna\", \\n    \"tweet_volume\": 10201, \\n    \"name\": \"Sagna\", \\n    \"promoted_content\": null\\n   }, \\n   {\\n    \"url\": \"http://twitter.com/search?q=%22S%C3%A9rgio+Machado%22\", \\n    \"query\": \"%22S%C3%A9rgio+Machado%22\", \\n    \"tweet_volume\": 12938, \\n    \"name\": \"S\\\\u00e9rgio Machado\", \\n    \"promoted_content\": null\\n   }, \\n   {\\n    \"url\": \"http://twitter.com/search?q=Arnavutluk\", \\n    \"query\": \"Arnavutluk\", \\n    \"tweet_volume\": 10794, \\n    \"name\": \"Arnavutluk\", \\n    \"promoted_content\": null\\n   }, \\n   {\\n    \"url\": \"http://twitter.com/search?q=%22Body+of+2%22\", \\n    \"query\": \"%22Body+of+2%22\", \\n    \"tweet_volume\": null, \\n    \"name\": \"Body of 2\", \\n    \"promoted_content\": null\\n   }, \\n   {\\n    \"url\": \"http://twitter.com/search?q=%22The+Gays%22\", \\n    \"query\": \"%22The+Gays%22\", \\n    \"tweet_volume\": 24399, \\n    \"name\": \"The Gays\", \\n    \"promoted_content\": null\\n   }, \\n   {\\n    \"url\": \"http://twitter.com/search?q=Gameiro\", \\n    \"query\": \"Gameiro\", \\n    \"tweet_volume\": null, \\n    \"name\": \"Gameiro\", \\n    \"promoted_content\": null\\n   }, \\n   {\\n    \"url\": \"http://twitter.com/search?q=%23SelfieForSeb\", \\n    \"query\": \"%23SelfieForSeb\", \\n    \"tweet_volume\": 31759, \\n    \"name\": \"#SelfieForSeb\", \\n    \"promoted_content\": null\\n   }, \\n   {\\n    \"url\": \"http://twitter.com/search?q=%23%D9%81%D8%B1%D9%86%D8%B3%D8%A7_%D8%A7%D9%84%D8%A8%D8%A7%D9%86%D9%8A%D8%A7\", \\n    \"query\": \"%23%D9%81%D8%B1%D9%86%D8%B3%D8%A7_%D8%A7%D9%84%D8%A8%D8%A7%D9%86%D9%8A%D8%A7\", \\n    \"tweet_volume\": 24533, \\n    \"name\": \"#\\\\u0641\\\\u0631\\\\u0646\\\\u0633\\\\u0627_\\\\u0627\\\\u0644\\\\u0628\\\\u0627\\\\u0646\\\\u064a\\\\u0627\", \\n    \"promoted_content\": null\\n   }, \\n   {\\n    \"url\": \"http://twitter.com/search?q=%23PrimeiraGuerraMemeal\", \\n    \"query\": \"%23PrimeiraGuerraMemeal\", \\n    \"tweet_volume\": 283932, \\n    \"name\": \"#PrimeiraGuerraMemeal\", \\n    \"promoted_content\": null\\n   }, \\n   {\\n    \"url\": \"http://twitter.com/search?q=%23%D9%85%D8%A7%D8%B0%D8%A7_%D9%8A%D8%B9%D9%86%D9%8A_%D9%84%D9%83_%D8%AA%D9%88%D9%8A%D8%AA%D8%B1\", \\n    \"query\": \"%23%D9%85%D8%A7%D8%B0%D8%A7_%D9%8A%D8%B9%D9%86%D9%8A_%D9%84%D9%83_%D8%AA%D9%88%D9%8A%D8%AA%D8%B1\", \\n    \"tweet_volume\": 14534, \\n    \"name\": \"#\\\\u0645\\\\u0627\\\\u0630\\\\u0627_\\\\u064a\\\\u0639\\\\u0646\\\\u064a_\\\\u0644\\\\u0643_\\\\u062a\\\\u0648\\\\u064a\\\\u062a\\\\u0631\", \\n    \"promoted_content\": null\\n   }, \\n   {\\n    \"url\": \"http://twitter.com/search?q=%23%D9%85%D8%B3%D8%A7%D8%A8%D9%82%D9%87_%D8%A7%D9%84%D9%88%D9%84%D9%8A%D8%AF_%D8%B4%D9%81%D8%A7%D9%87_%D8%A7%D9%84%D9%84%D9%87_10\", \\n    \"query\": \"%23%D9%85%D8%B3%D8%A7%D8%A8%D9%82%D9%87_%D8%A7%D9%84%D9%88%D9%84%D9%8A%D8%AF_%D8%B4%D9%81%D8%A7%D9%87_%D8%A7%D9%84%D9%84%D9%87_10\", \\n    \"tweet_volume\": 166126, \\n    \"name\": \"#\\\\u0645\\\\u0633\\\\u0627\\\\u0628\\\\u0642\\\\u0647_\\\\u0627\\\\u0644\\\\u0648\\\\u0644\\\\u064a\\\\u062f_\\\\u0634\\\\u0641\\\\u0627\\\\u0647_\\\\u0627\\\\u0644\\\\u0644\\\\u0647_10\", \\n    \"promoted_content\": null\\n   }, \\n   {\\n    \"url\": \"http://twitter.com/search?q=%23ConfrontoSkyTG24\", \\n    \"query\": \"%23ConfrontoSkyTG24\", \\n    \"tweet_volume\": 24449, \\n    \"name\": \"#ConfrontoSkyTG24\", \\n    \"promoted_content\": null\\n   }, \\n   {\\n    \"url\": \"http://twitter.com/search?q=%23%D8%A7%D8%B1%D8%A8%D8%AD_%D8%A7%D9%8A%D9%81%D9%88%D9%86_%D9%85%D8%B9_%D8%A7%D9%84%D8%AD%D8%AF%D8%AB\", \\n    \"query\": \"%23%D8%A7%D8%B1%D8%A8%D8%AD_%D8%A7%D9%8A%D9%81%D9%88%D9%86_%D9%85%D8%B9_%D8%A7%D9%84%D8%AD%D8%AF%D8%AB\", \\n    \"tweet_volume\": 25202, \\n    \"name\": \"#\\\\u0627\\\\u0631\\\\u0628\\\\u062d_\\\\u0627\\\\u064a\\\\u0641\\\\u0648\\\\u0646_\\\\u0645\\\\u0639_\\\\u0627\\\\u0644\\\\u062d\\\\u062f\\\\u062b\", \\n    \"promoted_content\": null\\n   }, \\n   {\\n    \"url\": \"http://twitter.com/search?q=%23pintoawards\", \\n    \"query\": \"%23pintoawards\", \\n    \"tweet_volume\": null, \\n    \"name\": \"#pintoawards\", \\n    \"promoted_content\": null\\n   }, \\n   {\\n    \"url\": \"http://twitter.com/search?q=%23KaraSevdam\", \\n    \"query\": \"%23KaraSevdam\", \\n    \"tweet_volume\": 44067, \\n    \"name\": \"#KaraSevdam\", \\n    \"promoted_content\": null\\n   }, \\n   {\\n    \"url\": \"http://twitter.com/search?q=%23FinalACB\", \\n    \"query\": \"%23FinalACB\", \\n    \"tweet_volume\": null, \\n    \"name\": \"#FinalACB\", \\n    \"promoted_content\": null\\n   }, \\n   {\\n    \"url\": \"http://twitter.com/search?q=%23chilhavisto\", \\n    \"query\": \"%23chilhavisto\", \\n    \"tweet_volume\": null, \\n    \"name\": \"#chilhavisto\", \\n    \"promoted_content\": null\\n   }, \\n   {\\n    \"url\": \"http://twitter.com/search?q=%23%D9%87%D9%88%D8%B4%D9%87_%D8%A8%D9%88%D9%8A%D8%A7%D8%AA_%D9%81%D9%8A_%D8%AD%D9%81%D9%84%D9%87_%D8%AA%D8%AE%D8%B1%D8%AC\", \\n    \"query\": \"%23%D9%87%D9%88%D8%B4%D9%87_%D8%A8%D9%88%D9%8A%D8%A7%D8%AA_%D9%81%D9%8A_%D8%AD%D9%81%D9%84%D9%87_%D8%AA%D8%AE%D8%B1%D8%AC\", \\n    \"tweet_volume\": null, \\n    \"name\": \"#\\\\u0647\\\\u0648\\\\u0634\\\\u0647_\\\\u0628\\\\u0648\\\\u064a\\\\u0627\\\\u062a_\\\\u0641\\\\u064a_\\\\u062d\\\\u0641\\\\u0644\\\\u0647_\\\\u062a\\\\u062e\\\\u0631\\\\u062c\", \\n    \"promoted_content\": null\\n   }, \\n   {\\n    \"url\": \"http://twitter.com/search?q=%23DisneyGatorAttack\", \\n    \"query\": \"%23DisneyGatorAttack\", \\n    \"tweet_volume\": 45708, \\n    \"name\": \"#DisneyGatorAttack\", \\n    \"promoted_content\": null\\n   }, \\n   {\\n    \"url\": \"http://twitter.com/search?q=%23Ley3de3\", \\n    \"query\": \"%23Ley3de3\", \\n    \"tweet_volume\": 58157, \\n    \"name\": \"#Ley3de3\", \\n    \"promoted_content\": null\\n   }, \\n   {\\n    \"url\": \"http://twitter.com/search?q=%23PortugalNaVeiaBRnaCadeia\", \\n    \"query\": \"%23PortugalNaVeiaBRnaCadeia\", \\n    \"tweet_volume\": 92427, \\n    \"name\": \"#PortugalNaVeiaBRnaCadeia\", \\n    \"promoted_content\": null\\n   }, \\n   {\\n    \"url\": \"http://twitter.com/search?q=%23queerselflove\", \\n    \"query\": \"%23queerselflove\", \\n    \"tweet_volume\": 35159, \\n    \"name\": \"#queerselflove\", \\n    \"promoted_content\": null\\n   }, \\n   {\\n    \"url\": \"http://twitter.com/search?q=%23ROUSUI\", \\n    \"query\": \"%23ROUSUI\", \\n    \"tweet_volume\": 36263, \\n    \"name\": \"#ROUSUI\", \\n    \"promoted_content\": null\\n   }, \\n   {\\n    \"url\": \"http://twitter.com/search?q=%23BacHistoire\", \\n    \"query\": \"%23BacHistoire\", \\n    \"tweet_volume\": 87364, \\n    \"name\": \"#BacHistoire\", \\n    \"promoted_content\": null\\n   }, \\n   {\\n    \"url\": \"http://twitter.com/search?q=%23CasoLopez\", \\n    \"query\": \"%23CasoLopez\", \\n    \"tweet_volume\": 20015, \\n    \"name\": \"#CasoLopez\", \\n    \"promoted_content\": null\\n   }, \\n   {\\n    \"url\": \"http://twitter.com/search?q=%23LaCaretaDelColetas\", \\n    \"query\": \"%23LaCaretaDelColetas\", \\n    \"tweet_volume\": 29843, \\n    \"name\": \"#LaCaretaDelColetas\", \\n    \"promoted_content\": null\\n   }, \\n   {\\n    \"url\": \"http://twitter.com/search?q=%23%D9%85%D9%83%D9%87_%D8%AA%D8%AC%D9%85%D8%B9%D9%86%D8%A720\", \\n    \"query\": \"%23%D9%85%D9%83%D9%87_%D8%AA%D8%AC%D9%85%D8%B9%D9%86%D8%A720\", \\n    \"tweet_volume\": 25940, \\n    \"name\": \"#\\\\u0645\\\\u0643\\\\u0647_\\\\u062a\\\\u062c\\\\u0645\\\\u0639\\\\u0646\\\\u062720\", \\n    \"promoted_content\": null\\n   }, \\n   {\\n    \"url\": \"http://twitter.com/search?q=%23A%C5%9FkLaftanAnlamaz\", \\n    \"query\": \"%23A%C5%9FkLaftanAnlamaz\", \\n    \"tweet_volume\": 34856, \\n    \"name\": \"#A\\\\u015fkLaftanAnlamaz\", \\n    \"promoted_content\": null\\n   }, \\n   {\\n    \"url\": \"http://twitter.com/search?q=%23LAGABBIA\", \\n    \"query\": \"%23LAGABBIA\", \\n    \"tweet_volume\": null, \\n    \"name\": \"#LAGABBIA\", \\n    \"promoted_content\": null\\n   }, \\n   {\\n    \"url\": \"http://twitter.com/search?q=%23DivasNoMTVHits\", \\n    \"query\": \"%23DivasNoMTVHits\", \\n    \"tweet_volume\": null, \\n    \"name\": \"#DivasNoMTVHits\", \\n    \"promoted_content\": null\\n   }, \\n   {\\n    \"url\": \"http://twitter.com/search?q=%23DiaDelMueble\", \\n    \"query\": \"%23DiaDelMueble\", \\n    \"tweet_volume\": null, \\n    \"name\": \"#DiaDelMueble\", \\n    \"promoted_content\": null\\n   }, \\n   {\\n    \"url\": \"http://twitter.com/search?q=%23PoCBeauty\", \\n    \"query\": \"%23PoCBeauty\", \\n    \"tweet_volume\": 11134, \\n    \"name\": \"#PoCBeauty\", \\n    \"promoted_content\": null\\n   }, \\n   {\\n    \"url\": \"http://twitter.com/search?q=%23cjrinisahurhari11Ikea\", \\n    \"query\": \"%23cjrinisahurhari11Ikea\", \\n    \"tweet_volume\": 12434, \\n    \"name\": \"#cjrinisahurhari11Ikea\", \\n    \"promoted_content\": null\\n   }, \\n   {\\n    \"url\": \"http://twitter.com/search?q=%23kalbininsesi\", \\n    \"query\": \"%23kalbininsesi\", \\n    \"tweet_volume\": 26334, \\n    \"name\": \"#kalbininsesi\", \\n    \"promoted_content\": null\\n   }, \\n   {\\n    \"url\": \"http://twitter.com/search?q=%23%D9%81%D8%B1%D9%8A%D9%82_%D8%A7%D9%84%D8%B9%D9%8A%D9%84%D9%87_%D8%A8%D9%8A%D8%B2%D9%88%D8%AF\", \\n    \"query\": \"%23%D9%81%D8%B1%D9%8A%D9%82_%D8%A7%D9%84%D8%B9%D9%8A%D9%84%D9%87_%D8%A8%D9%8A%D8%B2%D9%88%D8%AF\", \\n    \"tweet_volume\": 17382, \\n    \"name\": \"#\\\\u0641\\\\u0631\\\\u064a\\\\u0642_\\\\u0627\\\\u0644\\\\u0639\\\\u064a\\\\u0644\\\\u0647_\\\\u0628\\\\u064a\\\\u0632\\\\u0648\\\\u062f\", \\n    \"promoted_content\": null\\n   }, \\n   {\\n    \"url\": \"http://twitter.com/search?q=%23%D8%A7%D9%83%D8%AA%D8%B1_%D9%85%D8%B3%D9%84%D8%B3%D9%84_%D8%B9%D8%AC%D8%A8%D9%83_%D9%81_%D8%B1%D9%85%D8%B6%D8%A7%D9%86\", \\n    \"query\": \"%23%D8%A7%D9%83%D8%AA%D8%B1_%D9%85%D8%B3%D9%84%D8%B3%D9%84_%D8%B9%D8%AC%D8%A8%D9%83_%D9%81_%D8%B1%D9%85%D8%B6%D8%A7%D9%86\", \\n    \"tweet_volume\": 10386, \\n    \"name\": \"#\\\\u0627\\\\u0643\\\\u062a\\\\u0631_\\\\u0645\\\\u0633\\\\u0644\\\\u0633\\\\u0644_\\\\u0639\\\\u062c\\\\u0628\\\\u0643_\\\\u0641_\\\\u0631\\\\u0645\\\\u0636\\\\u0627\\\\u0646\", \\n    \"promoted_content\": null\\n   }, \\n   {\\n    \"url\": \"http://twitter.com/search?q=%23MojePlanyNaWakacje\", \\n    \"query\": \"%23MojePlanyNaWakacje\", \\n    \"tweet_volume\": null, \\n    \"name\": \"#MojePlanyNaWakacje\", \\n    \"promoted_content\": null\\n   }, \\n   {\\n    \"url\": \"http://twitter.com/search?q=%23UdtaPunjabLeaked\", \\n    \"query\": \"%23UdtaPunjabLeaked\", \\n    \"tweet_volume\": 10225, \\n    \"name\": \"#UdtaPunjabLeaked\", \\n    \"promoted_content\": null\\n   }\\n  ], \\n  \"as_of\": \"2016-06-15T21:27:45Z\", \\n  \"locations\": [\\n   {\\n    \"woeid\": 1, \\n    \"name\": \"Worldwide\"\\n   }\\n  ]\\n }\\n]',\n",
       " '23424977': '[\\n {\\n  \"created_at\": \"2016-06-15T21:21:17Z\", \\n  \"trends\": [\\n   {\\n    \"url\": \"http://twitter.com/search?q=%23filibuster\", \\n    \"query\": \"%23filibuster\", \\n    \"tweet_volume\": 48901, \\n    \"name\": \"#filibuster\", \\n    \"promoted_content\": null\\n   }, \\n   {\\n    \"url\": \"http://twitter.com/search?q=%23LyricsThatHaveToBeShouted\", \\n    \"query\": \"%23LyricsThatHaveToBeShouted\", \\n    \"tweet_volume\": 244844, \\n    \"name\": \"#LyricsThatHaveToBeShouted\", \\n    \"promoted_content\": null\\n   }, \\n   {\\n    \"url\": \"http://twitter.com/search?q=%23SelfieForSeb\", \\n    \"query\": \"%23SelfieForSeb\", \\n    \"tweet_volume\": 31759, \\n    \"name\": \"#SelfieForSeb\", \\n    \"promoted_content\": null\\n   }, \\n   {\\n    \"url\": \"http://twitter.com/search?q=%23FRAALB\", \\n    \"query\": \"%23FRAALB\", \\n    \"tweet_volume\": 467932, \\n    \"name\": \"#FRAALB\", \\n    \"promoted_content\": null\\n   }, \\n   {\\n    \"url\": \"http://twitter.com/search?q=%22Lane+Graves%22\", \\n    \"query\": \"%22Lane+Graves%22\", \\n    \"tweet_volume\": null, \\n    \"name\": \"Lane Graves\", \\n    \"promoted_content\": null\\n   }, \\n   {\\n    \"url\": \"http://twitter.com/search?q=%23queerselflove\", \\n    \"query\": \"%23queerselflove\", \\n    \"tweet_volume\": 35159, \\n    \"name\": \"#queerselflove\", \\n    \"promoted_content\": null\\n   }, \\n   {\\n    \"url\": \"http://twitter.com/search?q=Giroud\", \\n    \"query\": \"Giroud\", \\n    \"tweet_volume\": 115577, \\n    \"name\": \"Giroud\", \\n    \"promoted_content\": null\\n   }, \\n   {\\n    \"url\": \"http://twitter.com/search?q=%22The+Gays%22\", \\n    \"query\": \"%22The+Gays%22\", \\n    \"tweet_volume\": 24399, \\n    \"name\": \"The Gays\", \\n    \"promoted_content\": null\\n   }, \\n   {\\n    \"url\": \"http://twitter.com/search?q=Pogba\", \\n    \"query\": \"Pogba\", \\n    \"tweet_volume\": 138874, \\n    \"name\": \"Pogba\", \\n    \"promoted_content\": null\\n   }, \\n   {\\n    \"url\": \"http://twitter.com/search?q=EgyptAir\", \\n    \"query\": \"EgyptAir\", \\n    \"tweet_volume\": 15856, \\n    \"name\": \"EgyptAir\", \\n    \"promoted_content\": null\\n   }, \\n   {\\n    \"url\": \"http://twitter.com/search?q=Griezmann\", \\n    \"query\": \"Griezmann\", \\n    \"tweet_volume\": 163247, \\n    \"name\": \"Griezmann\", \\n    \"promoted_content\": null\\n   }, \\n   {\\n    \"url\": \"http://twitter.com/search?q=Ichiro\", \\n    \"query\": \"Ichiro\", \\n    \"tweet_volume\": 17173, \\n    \"name\": \"Ichiro\", \\n    \"promoted_content\": null\\n   }, \\n   {\\n    \"url\": \"http://twitter.com/search?q=Gignac\", \\n    \"query\": \"Gignac\", \\n    \"tweet_volume\": 41019, \\n    \"name\": \"Gignac\", \\n    \"promoted_content\": null\\n   }, \\n   {\\n    \"url\": \"http://twitter.com/search?q=%22Ever+Oasis%22\", \\n    \"query\": \"%22Ever+Oasis%22\", \\n    \"tweet_volume\": null, \\n    \"name\": \"Ever Oasis\", \\n    \"promoted_content\": null\\n   }, \\n   {\\n    \"url\": \"http://twitter.com/search?q=%22Dimitri+Payet%22\", \\n    \"query\": \"%22Dimitri+Payet%22\", \\n    \"tweet_volume\": 33942, \\n    \"name\": \"Dimitri Payet\", \\n    \"promoted_content\": null\\n   }, \\n   {\\n    \"url\": \"http://twitter.com/search?q=%22Jose+Reyes%22\", \\n    \"query\": \"%22Jose+Reyes%22\", \\n    \"tweet_volume\": null, \\n    \"name\": \"Jose Reyes\", \\n    \"promoted_content\": null\\n   }, \\n   {\\n    \"url\": \"http://twitter.com/search?q=Calvin\", \\n    \"query\": \"Calvin\", \\n    \"tweet_volume\": 30888, \\n    \"name\": \"Calvin\", \\n    \"promoted_content\": null\\n   }, \\n   {\\n    \"url\": \"http://twitter.com/search?q=Martial\", \\n    \"query\": \"Martial\", \\n    \"tweet_volume\": 88233, \\n    \"name\": \"Martial\", \\n    \"promoted_content\": null\\n   }, \\n   {\\n    \"url\": \"http://twitter.com/search?q=%22Eugene+Monroe%22\", \\n    \"query\": \"%22Eugene+Monroe%22\", \\n    \"tweet_volume\": null, \\n    \"name\": \"Eugene Monroe\", \\n    \"promoted_content\": null\\n   }, \\n   {\\n    \"url\": \"http://twitter.com/search?q=%22Ben+Fairow%22\", \\n    \"query\": \"%22Ben+Fairow%22\", \\n    \"tweet_volume\": null, \\n    \"name\": \"Ben Fairow\", \\n    \"promoted_content\": null\\n   }, \\n   {\\n    \"url\": \"http://twitter.com/search?q=%22Rickie+Weeks%22\", \\n    \"query\": \"%22Rickie+Weeks%22\", \\n    \"tweet_volume\": null, \\n    \"name\": \"Rickie Weeks\", \\n    \"promoted_content\": null\\n   }, \\n   {\\n    \"url\": \"http://twitter.com/search?q=Coman\", \\n    \"query\": \"Coman\", \\n    \"tweet_volume\": 64196, \\n    \"name\": \"Coman\", \\n    \"promoted_content\": null\\n   }, \\n   {\\n    \"url\": \"http://twitter.com/search?q=%22Lois+Duncan%22\", \\n    \"query\": \"%22Lois+Duncan%22\", \\n    \"tweet_volume\": null, \\n    \"name\": \"Lois Duncan\", \\n    \"promoted_content\": null\\n   }, \\n   {\\n    \"url\": \"http://twitter.com/search?q=Deschamps\", \\n    \"query\": \"Deschamps\", \\n    \"tweet_volume\": 56532, \\n    \"name\": \"Deschamps\", \\n    \"promoted_content\": null\\n   }, \\n   {\\n    \"url\": \"http://twitter.com/search?q=%22Chris+Murphy%22\", \\n    \"query\": \"%22Chris+Murphy%22\", \\n    \"tweet_volume\": 10637, \\n    \"name\": \"Chris Murphy\", \\n    \"promoted_content\": null\\n   }, \\n   {\\n    \"url\": \"http://twitter.com/search?q=%22Sheriff+Demings%22\", \\n    \"query\": \"%22Sheriff+Demings%22\", \\n    \"tweet_volume\": null, \\n    \"name\": \"Sheriff Demings\", \\n    \"promoted_content\": null\\n   }, \\n   {\\n    \"url\": \"http://twitter.com/search?q=%22Will+Brooks%22\", \\n    \"query\": \"%22Will+Brooks%22\", \\n    \"tweet_volume\": null, \\n    \"name\": \"Will Brooks\", \\n    \"promoted_content\": null\\n   }, \\n   {\\n    \"url\": \"http://twitter.com/search?q=Strasburg\", \\n    \"query\": \"Strasburg\", \\n    \"tweet_volume\": null, \\n    \"name\": \"Strasburg\", \\n    \"promoted_content\": null\\n   }, \\n   {\\n    \"url\": \"http://twitter.com/search?q=%22Pokemon+Go%22\", \\n    \"query\": \"%22Pokemon+Go%22\", \\n    \"tweet_volume\": 32338, \\n    \"name\": \"Pokemon Go\", \\n    \"promoted_content\": null\\n   }, \\n   {\\n    \"url\": \"http://twitter.com/search?q=%22Mario+Party%22\", \\n    \"query\": \"%22Mario+Party%22\", \\n    \"tweet_volume\": null, \\n    \"name\": \"Mario Party\", \\n    \"promoted_content\": null\\n   }, \\n   {\\n    \"url\": \"http://twitter.com/search?q=Montero\", \\n    \"query\": \"Montero\", \\n    \"tweet_volume\": 13688, \\n    \"name\": \"Montero\", \\n    \"promoted_content\": null\\n   }, \\n   {\\n    \"url\": \"http://twitter.com/search?q=%22Dragon+Quest+VII%22\", \\n    \"query\": \"%22Dragon+Quest+VII%22\", \\n    \"tweet_volume\": null, \\n    \"name\": \"Dragon Quest VII\", \\n    \"promoted_content\": null\\n   }, \\n   {\\n    \"url\": \"http://twitter.com/search?q=%22Claire+McCaskill%22\", \\n    \"query\": \"%22Claire+McCaskill%22\", \\n    \"tweet_volume\": null, \\n    \"name\": \"Claire McCaskill\", \\n    \"promoted_content\": null\\n   }, \\n   {\\n    \"url\": \"http://twitter.com/search?q=%23WednesdayWisdom\", \\n    \"query\": \"%23WednesdayWisdom\", \\n    \"tweet_volume\": 64066, \\n    \"name\": \"#WednesdayWisdom\", \\n    \"promoted_content\": null\\n   }, \\n   {\\n    \"url\": \"http://twitter.com/search?q=%23SoOneTimeMyDad\", \\n    \"query\": \"%23SoOneTimeMyDad\", \\n    \"tweet_volume\": null, \\n    \"name\": \"#SoOneTimeMyDad\", \\n    \"promoted_content\": null\\n   }, \\n   {\\n    \"url\": \"http://twitter.com/search?q=%23DadQuotes\", \\n    \"query\": \"%23DadQuotes\", \\n    \"tweet_volume\": null, \\n    \"name\": \"#DadQuotes\", \\n    \"promoted_content\": null\\n   }, \\n   {\\n    \"url\": \"http://twitter.com/search?q=%23PoCBeauty\", \\n    \"query\": \"%23PoCBeauty\", \\n    \"tweet_volume\": 11134, \\n    \"name\": \"#PoCBeauty\", \\n    \"promoted_content\": null\\n   }, \\n   {\\n    \"url\": \"http://twitter.com/search?q=%23NationalExDay\", \\n    \"query\": \"%23NationalExDay\", \\n    \"tweet_volume\": 88848, \\n    \"name\": \"#NationalExDay\", \\n    \"promoted_content\": null\\n   }, \\n   {\\n    \"url\": \"http://twitter.com/search?q=%23DSDEN16\", \\n    \"query\": \"%23DSDEN16\", \\n    \"tweet_volume\": null, \\n    \"name\": \"#DSDEN16\", \\n    \"promoted_content\": null\\n   }, \\n   {\\n    \"url\": \"http://twitter.com/search?q=%23Yellen\", \\n    \"query\": \"%23Yellen\", \\n    \"tweet_volume\": null, \\n    \"name\": \"#Yellen\", \\n    \"promoted_content\": null\\n   }, \\n   {\\n    \"url\": \"http://twitter.com/search?q=%23NewContractions\", \\n    \"query\": \"%23NewContractions\", \\n    \"tweet_volume\": null, \\n    \"name\": \"#NewContractions\", \\n    \"promoted_content\": null\\n   }, \\n   {\\n    \"url\": \"http://twitter.com/search?q=%23SelfiesITookWhileIWasHigh\", \\n    \"query\": \"%23SelfiesITookWhileIWasHigh\", \\n    \"tweet_volume\": null, \\n    \"name\": \"#SelfiesITookWhileIWasHigh\", \\n    \"promoted_content\": null\\n   }, \\n   {\\n    \"url\": \"http://twitter.com/search?q=%23WorkerVoice\", \\n    \"query\": \"%23WorkerVoice\", \\n    \"tweet_volume\": null, \\n    \"name\": \"#WorkerVoice\", \\n    \"promoted_content\": null\\n   }, \\n   {\\n    \"url\": \"http://twitter.com/search?q=%23BlackMuslimRamadan\", \\n    \"query\": \"%23BlackMuslimRamadan\", \\n    \"tweet_volume\": null, \\n    \"name\": \"#BlackMuslimRamadan\", \\n    \"promoted_content\": null\\n   }, \\n   {\\n    \"url\": \"http://twitter.com/search?q=%23AdobeChat\", \\n    \"query\": \"%23AdobeChat\", \\n    \"tweet_volume\": null, \\n    \"name\": \"#AdobeChat\", \\n    \"promoted_content\": null\\n   }, \\n   {\\n    \"url\": \"http://twitter.com/search?q=%23ExpediaChat\", \\n    \"query\": \"%23ExpediaChat\", \\n    \"tweet_volume\": null, \\n    \"name\": \"#ExpediaChat\", \\n    \"promoted_content\": null\\n   }, \\n   {\\n    \"url\": \"http://twitter.com/search?q=%23BizChats\", \\n    \"query\": \"%23BizChats\", \\n    \"tweet_volume\": null, \\n    \"name\": \"#BizChats\", \\n    \"promoted_content\": null\\n   }, \\n   {\\n    \"url\": \"http://twitter.com/search?q=%23DACA\", \\n    \"query\": \"%23DACA\", \\n    \"tweet_volume\": null, \\n    \"name\": \"#DACA\", \\n    \"promoted_content\": null\\n   }, \\n   {\\n    \"url\": \"http://twitter.com/search?q=%23CollinsGirlsAreConfident\", \\n    \"query\": \"%23CollinsGirlsAreConfident\", \\n    \"tweet_volume\": null, \\n    \"name\": \"#CollinsGirlsAreConfident\", \\n    \"promoted_content\": null\\n   }, \\n   {\\n    \"url\": \"http://twitter.com/search?q=%23SummerOnSunset\", \\n    \"query\": \"%23SummerOnSunset\", \\n    \"tweet_volume\": null, \\n    \"name\": \"#SummerOnSunset\", \\n    \"promoted_content\": null\\n   }\\n  ], \\n  \"as_of\": \"2016-06-15T21:27:45Z\", \\n  \"locations\": [\\n   {\\n    \"woeid\": 23424977, \\n    \"name\": \"United States\"\\n   }\\n  ]\\n }\\n]'}"
      ]
     },
     "execution_count": 29,
     "metadata": {},
     "output_type": "execute_result"
    }
   ],
   "source": [
    "import json\n",
    "from twitter import TwitterHTTPError\n",
    "\n",
    "trends = dict()\n",
    "for WORLD_WOE_ID in WORLD_WOE_IDS:\n",
    "    try:\n",
    "        trends[WORLD_WOE_ID] = json.dumps(t.trends.place(_id=WORLD_WOE_ID), indent=1)\n",
    "    except TwitterHTTPError:\n",
    "        \"\"\n",
    "trends"
   ]
  },
  {
   "cell_type": "code",
   "execution_count": 27,
   "metadata": {
    "collapsed": false
   },
   "outputs": [
    {
     "data": {
      "text/plain": [
       "'2347563'"
      ]
     },
     "execution_count": 27,
     "metadata": {},
     "output_type": "execute_result"
    }
   ],
   "source": [
    "trends.keys()\n",
    "WORLD_WOE_ID"
   ]
  },
  {
   "cell_type": "code",
   "execution_count": 26,
   "metadata": {
    "collapsed": false
   },
   "outputs": [
    {
     "ename": "TwitterHTTPError",
     "evalue": "Twitter sent status 404 for URL: 1.1/trends/place.json using parameters: (id=2347563&oauth_consumer_key=1w7uR95qmcNSFN9xJQ21Mw&oauth_nonce=5210250808655046000&oauth_signature_method=HMAC-SHA1&oauth_timestamp=1466025958&oauth_token=57658048-O4b3XYkMiZ6s6XHYUyyFXOUAFBY7UkDvkq6pL7dLZ&oauth_version=1.0&oauth_signature=nHXySB%2BrdqnFtIieW3v%2BlDkS8kU%3D)\ndetails: {u'errors': [{u'message': u'Sorry, that page does not exist.', u'code': 34}]}",
     "output_type": "error",
     "traceback": [
      "\u001b[0;31m---------------------------------------------------------------------------\u001b[0m",
      "\u001b[0;31mTwitterHTTPError\u001b[0m                          Traceback (most recent call last)",
      "\u001b[0;32m<ipython-input-26-94582873aaf3>\u001b[0m in \u001b[0;36m<module>\u001b[0;34m()\u001b[0m\n\u001b[0;32m----> 1\u001b[0;31m \u001b[0mt\u001b[0m\u001b[0;34m.\u001b[0m\u001b[0mtrends\u001b[0m\u001b[0;34m.\u001b[0m\u001b[0mplace\u001b[0m\u001b[0;34m(\u001b[0m\u001b[0m_id\u001b[0m\u001b[0;34m=\u001b[0m\u001b[0mWORLD_WOE_ID\u001b[0m\u001b[0;34m)\u001b[0m\u001b[0;34m\u001b[0m\u001b[0m\n\u001b[0m",
      "\u001b[0;32m/Users/mrpozzi/anaconda/lib/python2.7/site-packages/twitter/api.pyc\u001b[0m in \u001b[0;36m__call__\u001b[0;34m(self, **kwargs)\u001b[0m\n\u001b[1;32m    310\u001b[0m             \u001b[0;32mreturn\u001b[0m \u001b[0mself\u001b[0m\u001b[0;34m.\u001b[0m\u001b[0m_handle_response_with_retry\u001b[0m\u001b[0;34m(\u001b[0m\u001b[0mreq\u001b[0m\u001b[0;34m,\u001b[0m \u001b[0muri\u001b[0m\u001b[0;34m,\u001b[0m \u001b[0marg_data\u001b[0m\u001b[0;34m,\u001b[0m \u001b[0m_timeout\u001b[0m\u001b[0;34m)\u001b[0m\u001b[0;34m\u001b[0m\u001b[0m\n\u001b[1;32m    311\u001b[0m         \u001b[0;32melse\u001b[0m\u001b[0;34m:\u001b[0m\u001b[0;34m\u001b[0m\u001b[0m\n\u001b[0;32m--> 312\u001b[0;31m             \u001b[0;32mreturn\u001b[0m \u001b[0mself\u001b[0m\u001b[0;34m.\u001b[0m\u001b[0m_handle_response\u001b[0m\u001b[0;34m(\u001b[0m\u001b[0mreq\u001b[0m\u001b[0;34m,\u001b[0m \u001b[0muri\u001b[0m\u001b[0;34m,\u001b[0m \u001b[0marg_data\u001b[0m\u001b[0;34m,\u001b[0m \u001b[0m_timeout\u001b[0m\u001b[0;34m)\u001b[0m\u001b[0;34m\u001b[0m\u001b[0m\n\u001b[0m\u001b[1;32m    313\u001b[0m \u001b[0;34m\u001b[0m\u001b[0m\n\u001b[1;32m    314\u001b[0m     \u001b[0;32mdef\u001b[0m \u001b[0m_handle_response\u001b[0m\u001b[0;34m(\u001b[0m\u001b[0mself\u001b[0m\u001b[0;34m,\u001b[0m \u001b[0mreq\u001b[0m\u001b[0;34m,\u001b[0m \u001b[0muri\u001b[0m\u001b[0;34m,\u001b[0m \u001b[0marg_data\u001b[0m\u001b[0;34m,\u001b[0m \u001b[0m_timeout\u001b[0m\u001b[0;34m=\u001b[0m\u001b[0mNone\u001b[0m\u001b[0;34m)\u001b[0m\u001b[0;34m:\u001b[0m\u001b[0;34m\u001b[0m\u001b[0m\n",
      "\u001b[0;32m/Users/mrpozzi/anaconda/lib/python2.7/site-packages/twitter/api.pyc\u001b[0m in \u001b[0;36m_handle_response\u001b[0;34m(self, req, uri, arg_data, _timeout)\u001b[0m\n\u001b[1;32m    343\u001b[0m                 \u001b[0;32mreturn\u001b[0m \u001b[0;34m[\u001b[0m\u001b[0;34m]\u001b[0m\u001b[0;34m\u001b[0m\u001b[0m\n\u001b[1;32m    344\u001b[0m             \u001b[0;32melse\u001b[0m\u001b[0;34m:\u001b[0m\u001b[0;34m\u001b[0m\u001b[0m\n\u001b[0;32m--> 345\u001b[0;31m                 \u001b[0;32mraise\u001b[0m \u001b[0mTwitterHTTPError\u001b[0m\u001b[0;34m(\u001b[0m\u001b[0me\u001b[0m\u001b[0;34m,\u001b[0m \u001b[0muri\u001b[0m\u001b[0;34m,\u001b[0m \u001b[0mself\u001b[0m\u001b[0;34m.\u001b[0m\u001b[0mformat\u001b[0m\u001b[0;34m,\u001b[0m \u001b[0marg_data\u001b[0m\u001b[0;34m)\u001b[0m\u001b[0;34m\u001b[0m\u001b[0m\n\u001b[0m\u001b[1;32m    346\u001b[0m \u001b[0;34m\u001b[0m\u001b[0m\n\u001b[1;32m    347\u001b[0m     \u001b[0;32mdef\u001b[0m \u001b[0m_handle_response_with_retry\u001b[0m\u001b[0;34m(\u001b[0m\u001b[0mself\u001b[0m\u001b[0;34m,\u001b[0m \u001b[0mreq\u001b[0m\u001b[0;34m,\u001b[0m \u001b[0muri\u001b[0m\u001b[0;34m,\u001b[0m \u001b[0marg_data\u001b[0m\u001b[0;34m,\u001b[0m \u001b[0m_timeout\u001b[0m\u001b[0;34m=\u001b[0m\u001b[0mNone\u001b[0m\u001b[0;34m)\u001b[0m\u001b[0;34m:\u001b[0m\u001b[0;34m\u001b[0m\u001b[0m\n",
      "\u001b[0;31mTwitterHTTPError\u001b[0m: Twitter sent status 404 for URL: 1.1/trends/place.json using parameters: (id=2347563&oauth_consumer_key=1w7uR95qmcNSFN9xJQ21Mw&oauth_nonce=5210250808655046000&oauth_signature_method=HMAC-SHA1&oauth_timestamp=1466025958&oauth_token=57658048-O4b3XYkMiZ6s6XHYUyyFXOUAFBY7UkDvkq6pL7dLZ&oauth_version=1.0&oauth_signature=nHXySB%2BrdqnFtIieW3v%2BlDkS8kU%3D)\ndetails: {u'errors': [{u'message': u'Sorry, that page does not exist.', u'code': 34}]}"
     ]
    }
   ],
   "source": [
    "t.trends.place(_id=WORLD_WOE_ID)"
   ]
  },
  {
   "cell_type": "code",
   "execution_count": 32,
   "metadata": {
    "collapsed": false
   },
   "outputs": [],
   "source": [
    "local_trends = t.trends.place(_id=1)"
   ]
  },
  {
   "cell_type": "code",
   "execution_count": 40,
   "metadata": {
    "collapsed": false
   },
   "outputs": [
    {
     "data": {
      "text/plain": [
       "[{'location': u'Worldwide', 'trend': u'#FRAALB', 'tweet_volume': 520212},\n",
       " {'location': u'Worldwide', 'trend': u'#VisAVis12', 'tweet_volume': 25950},\n",
       " {'location': u'Worldwide',\n",
       "  'trend': u'#PoyrazKarayelSezonFinali',\n",
       "  'tweet_volume': 78482},\n",
       " {'location': u'Worldwide', 'trend': u'#MasterChef', 'tweet_volume': 17744},\n",
       " {'location': u'Worldwide', 'trend': u'#filibuster', 'tweet_volume': 68137},\n",
       " {'location': u'Worldwide', 'trend': u'Griezmann', 'tweet_volume': 191488},\n",
       " {'location': u'Worldwide', 'trend': u'Gignac', 'tweet_volume': 45218},\n",
       " {'location': u'Worldwide', 'trend': u'Tom Hiddleston', 'tweet_volume': 21913},\n",
       " {'location': u'Worldwide', 'trend': u'Martial', 'tweet_volume': 93635},\n",
       " {'location': u'Worldwide', 'trend': u'Coman', 'tweet_volume': 68415},\n",
       " {'location': u'Worldwide',\n",
       "  'trend': u'R\\xf3mulo Gallegos',\n",
       "  'tweet_volume': 40773},\n",
       " {'location': u'Worldwide',\n",
       "  'trend': u'F\\u0131rataAdalet KatileM\\xfcebbet',\n",
       "  'tweet_volume': 25764},\n",
       " {'location': u'Worldwide', 'trend': u'EgyptAir', 'tweet_volume': 21592},\n",
       " {'location': u'Worldwide',\n",
       "  'trend': u'S\\xe9rgio Machado',\n",
       "  'tweet_volume': 14538},\n",
       " {'location': u'Worldwide',\n",
       "  'trend': u'\\u0130ncitter Yenilendi',\n",
       "  'tweet_volume': None},\n",
       " {'location': u'Worldwide',\n",
       "  'trend': u'#LyricsThatHaveToBeShouted',\n",
       "  'tweet_volume': 272783},\n",
       " {'location': u'Worldwide', 'trend': u'#pintoawards', 'tweet_volume': None},\n",
       " {'location': u'Worldwide',\n",
       "  'trend': u'#\\u0645\\u0627\\u0630\\u0627_\\u064a\\u0639\\u0646\\u064a_\\u0644\\u0643_\\u062a\\u0648\\u064a\\u062a\\u0631',\n",
       "  'tweet_volume': 19728},\n",
       " {'location': u'Worldwide',\n",
       "  'trend': u'#\\u0645\\u0633\\u0627\\u0628\\u0642\\u0647_\\u0627\\u0644\\u0648\\u0644\\u064a\\u062f_\\u0634\\u0641\\u0627\\u0647_\\u0627\\u0644\\u0644\\u0647_10',\n",
       "  'tweet_volume': 197006},\n",
       " {'location': u'Worldwide', 'trend': u'#ObrigadoTite', 'tweet_volume': None},\n",
       " {'location': u'Worldwide', 'trend': u'#SelfieForSeb', 'tweet_volume': 31268},\n",
       " {'location': u'Worldwide',\n",
       "  'trend': u'#PrimeiraGuerraMemeal',\n",
       "  'tweet_volume': 303249},\n",
       " {'location': u'Worldwide',\n",
       "  'trend': u'#\\u0647\\u0648\\u0634\\u0647_\\u0628\\u0648\\u064a\\u0627\\u062a_\\u0641\\u064a_\\u062d\\u0641\\u0644\\u0647_\\u062a\\u062e\\u0631\\u062c',\n",
       "  'tweet_volume': 16549},\n",
       " {'location': u'Worldwide',\n",
       "  'trend': u'#\\u0627\\u0631\\u0628\\u062d_\\u0627\\u064a\\u0641\\u0648\\u0646_\\u0645\\u0639_\\u0627\\u0644\\u062d\\u062f\\u062b',\n",
       "  'tweet_volume': 38348},\n",
       " {'location': u'Worldwide', 'trend': u'#KaraSevdam', 'tweet_volume': 48557},\n",
       " {'location': u'Worldwide',\n",
       "  'trend': u'#ConfrontoSkyTG24',\n",
       "  'tweet_volume': 26164},\n",
       " {'location': u'Worldwide', 'trend': u'#chilhavisto', 'tweet_volume': None},\n",
       " {'location': u'Worldwide',\n",
       "  'trend': u'#\\u0645\\u0643\\u0647_\\u062a\\u062c\\u0645\\u0639\\u0646\\u062720',\n",
       "  'tweet_volume': 29289},\n",
       " {'location': u'Worldwide', 'trend': u'#DivasNoMTVHits', 'tweet_volume': None},\n",
       " {'location': u'Worldwide', 'trend': u'#FinalACB', 'tweet_volume': None},\n",
       " {'location': u'Worldwide',\n",
       "  'trend': u'#\\u062a\\u064a\\u0645_\\u0627\\u0644\\u0645\\u0628\\u0627\\u062d\\u062b_\\u0628\\u064a\\u0645\\u0633\\u064a_\\u0628\\u0641\\u0648\\u0644\\u0648\\u0631\\u0632',\n",
       "  'tweet_volume': 19655},\n",
       " {'location': u'Worldwide', 'trend': u'#queerselflove', 'tweet_volume': 38212},\n",
       " {'location': u'Worldwide', 'trend': u'#Ley3de3', 'tweet_volume': 61951},\n",
       " {'location': u'Worldwide', 'trend': u'#CasoLopez', 'tweet_volume': 22747},\n",
       " {'location': u'Worldwide', 'trend': u'#AskTheGays', 'tweet_volume': None},\n",
       " {'location': u'Worldwide',\n",
       "  'trend': u'#MUDViolenciaBachaquera',\n",
       "  'tweet_volume': 11802},\n",
       " {'location': u'Worldwide', 'trend': u'#PoCBeauty', 'tweet_volume': 14333},\n",
       " {'location': u'Worldwide',\n",
       "  'trend': u'#PortugalNaVeiaBRnaCadeia',\n",
       "  'tweet_volume': 97367},\n",
       " {'location': u'Worldwide',\n",
       "  'trend': u'#DisneyGatorAttack',\n",
       "  'tweet_volume': 48417},\n",
       " {'location': u'Worldwide', 'trend': u'#BacHistoire', 'tweet_volume': 91592},\n",
       " {'location': u'Worldwide', 'trend': u'#Rajoy13tv', 'tweet_volume': None},\n",
       " {'location': u'Worldwide', 'trend': u'#ROUSUI', 'tweet_volume': 36525},\n",
       " {'location': u'Worldwide',\n",
       "  'trend': u'#CollinsGirlsAreConfident',\n",
       "  'tweet_volume': None},\n",
       " {'location': u'Worldwide',\n",
       "  'trend': u'#S\\xf3OsMafiaNoSdv',\n",
       "  'tweet_volume': None},\n",
       " {'location': u'Worldwide',\n",
       "  'trend': u'#LaCaretaDelColetas',\n",
       "  'tweet_volume': 32916},\n",
       " {'location': u'Worldwide',\n",
       "  'trend': u'#MojePlanyNaWakacje',\n",
       "  'tweet_volume': None},\n",
       " {'location': u'Worldwide', 'trend': u'#DiaDelMueble', 'tweet_volume': None},\n",
       " {'location': u'Worldwide',\n",
       "  'trend': u'#\\u0627\\u0643\\u062a\\u0631_\\u0645\\u0633\\u0644\\u0633\\u0644_\\u0639\\u062c\\u0628\\u0643_\\u0641_\\u0631\\u0645\\u0636\\u0627\\u0646',\n",
       "  'tweet_volume': 11364},\n",
       " {'location': u'Worldwide',\n",
       "  'trend': u'#\\u0628\\u0627\\u0644\\u0642\\u0631\\u0627\\u0646_\\u0646\\u062d\\u064a\\u062720',\n",
       "  'tweet_volume': None},\n",
       " {'location': u'Worldwide',\n",
       "  'trend': u'#\\u0645\\u0646_\\u0648\\u0627\\u0642\\u0639_\\u062d\\u064a\\u0627\\u062a\\u064a_\\u0639\\u0631\\u0641\\u062a',\n",
       "  'tweet_volume': None}]"
      ]
     },
     "execution_count": 40,
     "metadata": {},
     "output_type": "execute_result"
    }
   ],
   "source": [
    "\n",
    "[{'location':local_trends[0]['locations'][0]['name'], 'tweet_volume': trend['tweet_volume'], 'trend':trend['name']} for trend in local_trends[0]['trends']]"
   ]
  },
  {
   "cell_type": "code",
   "execution_count": null,
   "metadata": {
    "collapsed": true
   },
   "outputs": [],
   "source": []
  }
 ],
 "metadata": {
  "kernelspec": {
   "display_name": "Python 2",
   "language": "python",
   "name": "python2"
  },
  "language_info": {
   "codemirror_mode": {
    "name": "ipython",
    "version": 2
   },
   "file_extension": ".py",
   "mimetype": "text/x-python",
   "name": "python",
   "nbconvert_exporter": "python",
   "pygments_lexer": "ipython2",
   "version": "2.7.11"
  }
 },
 "nbformat": 4,
 "nbformat_minor": 0
}
