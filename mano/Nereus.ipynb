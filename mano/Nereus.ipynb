{
 "cells": [
  {
   "cell_type": "code",
   "execution_count": 41,
   "metadata": {
    "collapsed": false
   },
   "outputs": [
    {
     "name": "stdout",
     "output_type": "stream",
     "text": [
      "The autoreload extension is already loaded. To reload it, use:\n",
      "  %reload_ext autoreload\n"
     ]
    }
   ],
   "source": [
    "%matplotlib inline\n",
    "%load_ext autoreload\n",
    "%autoreload 2\n",
    "\n",
    "#import pandas as pd\n",
    "#import numpy as np\n",
    "\n",
    "from nereus.nereus_scraper import TideScraper\n",
    "from oauth_setup import oauth_login\n",
    "\n",
    "t = oauth_login()"
   ]
  },
  {
   "cell_type": "code",
   "execution_count": 64,
   "metadata": {},
   "outputs": [],
   "source": [
    "scraper = TideScraper()"
   ]
  },
  {
   "cell_type": "code",
   "execution_count": 65,
   "metadata": {},
   "outputs": [
    {
     "name": "stdout",
     "output_type": "stream",
     "text": [
      "San Francisco Bay Entrance (Golden Gate), California  [2018-04-04]:\n",
      "Sun rises at 07:43, sets at 20:28\n",
      "Ebb 05:10-12:13 (Max: -4.0 @ 08:17)\n",
      "Flood 12:13-18:33 (Max: 2.5 @ 15:09)\n",
      "Ebb 18:33-00:16 (Max: -2.2 @ 20:48)\n",
      "\n"
     ]
    }
   ],
   "source": [
    "print(scraper.get_tides_info())"
   ]
  },
  {
   "cell_type": "code",
   "execution_count": 66,
   "metadata": {},
   "outputs": [],
   "source": [
    "tmp = t.statuses.update(status=scraper.get_tides_info())"
   ]
  },
  {
   "cell_type": "code",
   "execution_count": null,
   "metadata": {},
   "outputs": [],
   "source": []
  },
  {
   "cell_type": "markdown",
   "metadata": {},
   "source": [
    "TODO:\n",
    "\n",
    "- Add water temp\n",
    "- build bot:\n",
    "    - ask for tides (implicit: tomorrow)\n",
    "    - ask for tides and/or temp\n",
    "    - ask for conditions on a given day\n",
    "- Allow for other locations"
   ]
  },
  {
   "cell_type": "code",
   "execution_count": null,
   "metadata": {
    "collapsed": false
   },
   "outputs": [],
   "source": [
    "'http://tides.mobilegeographics.com/zones/'\n",
    "'http://tides.mobilegeographics.com/zones/:Europe/'\n",
    "'http://tides.mobilegeographics.com/zones/:Europe/Gibraltar'\n",
    "\n",
    "'http://tides.mobilegeographics.com/index.html'"
   ]
  },
  {
   "cell_type": "code",
   "execution_count": null,
   "metadata": {},
   "outputs": [],
   "source": []
  }
 ],
 "metadata": {
  "anaconda-cloud": {},
  "kernelspec": {
   "display_name": "Python 3",
   "language": "python",
   "name": "python3"
  },
  "language_info": {
   "codemirror_mode": {
    "name": "ipython",
    "version": 3
   },
   "file_extension": ".py",
   "mimetype": "text/x-python",
   "name": "python",
   "nbconvert_exporter": "python",
   "pygments_lexer": "ipython3",
   "version": "3.6.4"
  }
 },
 "nbformat": 4,
 "nbformat_minor": 2
}
