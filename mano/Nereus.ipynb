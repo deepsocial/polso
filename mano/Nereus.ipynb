{
 "cells": [
  {
   "cell_type": "code",
   "execution_count": 19,
   "metadata": {
    "collapsed": false
   },
   "outputs": [
    {
     "name": "stdout",
     "output_type": "stream",
     "text": [
      "The autoreload extension is already loaded. To reload it, use:\n",
      "  %reload_ext autoreload\n"
     ]
    }
   ],
   "source": [
    "%matplotlib inline\n",
    "%load_ext autoreload\n",
    "%autoreload 2\n",
    "\n",
    "import pandas as pd\n",
    "import numpy as np\n",
    "\n",
    "import sys\n",
    "import time\n",
    "import datetime \n",
    "from dateutil.parser import parse\n",
    "import pytz\n",
    "\n",
    "import urllib2\n",
    "from bs4 import BeautifulSoup\n",
    "\n",
    "from twitter import TwitterHTTPError\n",
    "from oauth_setup import oauth_login\n",
    "\n",
    "t = oauth_login()"
   ]
  },
  {
   "cell_type": "code",
   "execution_count": 18,
   "metadata": {
    "collapsed": false
   },
   "outputs": [
    {
     "name": "stdout",
     "output_type": "stream",
     "text": [
      "Uno...\n",
      "...\n",
      "...due...\n",
      "...\n",
      "Tre.. Prova.\n",
      "...\n",
      "All done!\n"
     ]
    }
   ],
   "source": [
    "tweetlist = ['Uno...', '...due...', 'Tre.. Prova.']\n",
    "\n",
    "for line in tweetlist: \n",
    "    t.statuses.update(status=line)\n",
    "    print line\n",
    "    print '...'\n",
    "    time.sleep(15) # Sleep for 15 seconds\n",
    "\n",
    "print \"All done!\""
   ]
  },
  {
   "cell_type": "code",
   "execution_count": 13,
   "metadata": {
    "collapsed": false
   },
   "outputs": [],
   "source": [
    "#t.statuses.home_timeline()"
   ]
  },
  {
   "cell_type": "code",
   "execution_count": 168,
   "metadata": {
    "collapsed": false
   },
   "outputs": [
    {
     "data": {
      "text/plain": [
       "{u'contributors': None,\n",
       " u'coordinates': None,\n",
       " u'created_at': u'Fri Jun 16 01:01:08 +0000 2017',\n",
       " u'entities': {u'hashtags': [],\n",
       "  u'symbols': [],\n",
       "  u'urls': [],\n",
       "  u'user_mentions': []},\n",
       " u'favorite_count': 0,\n",
       " u'favorited': False,\n",
       " u'geo': None,\n",
       " u'id': 875518570980974592,\n",
       " u'id_str': u'875518570980974592',\n",
       " u'in_reply_to_screen_name': None,\n",
       " u'in_reply_to_status_id': None,\n",
       " u'in_reply_to_status_id_str': None,\n",
       " u'in_reply_to_user_id': None,\n",
       " u'in_reply_to_user_id_str': None,\n",
       " u'is_quote_status': False,\n",
       " u'lang': u'in',\n",
       " u'place': None,\n",
       " u'retweet_count': 0,\n",
       " u'retweeted': False,\n",
       " u'source': u'<a href=\"https://www.nodc.noaa.gov/dsdt/cwtg/cpac.html\" rel=\"nofollow\">nereus</a>',\n",
       " u'text': u'San Francisco Bay Entrance (Golden Gate)\\nYYYY-MM-DD\\nSun   HH:MM-HH:MM \\nFlood HH:MM-HH:MM (max x.y knots)\\nEbb   HH:MM-HH:MM (max x.y knots)',\n",
       " u'truncated': False,\n",
       " u'user': {u'contributors_enabled': False,\n",
       "  u'created_at': u'Fri Jul 17 14:35:16 +0000 2009',\n",
       "  u'default_profile': False,\n",
       "  u'default_profile_image': False,\n",
       "  u'description': u'Art, Science, Sport... not much more...',\n",
       "  u'entities': {u'description': {u'urls': []},\n",
       "   u'url': {u'urls': [{u'display_url': u'joejkerr.deviantart.com',\n",
       "      u'expanded_url': u'http://joejkerr.deviantart.com/',\n",
       "      u'indices': [0, 22],\n",
       "      u'url': u'http://t.co/RQa8T3R5Xx'}]}},\n",
       "  u'favourites_count': 14,\n",
       "  u'follow_request_sent': False,\n",
       "  u'followers_count': 95,\n",
       "  u'following': False,\n",
       "  u'friends_count': 217,\n",
       "  u'geo_enabled': False,\n",
       "  u'has_extended_profile': True,\n",
       "  u'id': 57658048,\n",
       "  u'id_str': u'57658048',\n",
       "  u'is_translation_enabled': False,\n",
       "  u'is_translator': False,\n",
       "  u'lang': u'en',\n",
       "  u'listed_count': 0,\n",
       "  u'location': u\"Swimmin' to the Moon\",\n",
       "  u'name': u'Luca Pozzi',\n",
       "  u'notifications': False,\n",
       "  u'profile_background_color': u'9AE4E8',\n",
       "  u'profile_background_image_url': u'http://pbs.twimg.com/profile_background_images/23983019/Sight.jpg',\n",
       "  u'profile_background_image_url_https': u'https://pbs.twimg.com/profile_background_images/23983019/Sight.jpg',\n",
       "  u'profile_background_tile': True,\n",
       "  u'profile_image_url': u'http://pbs.twimg.com/profile_images/3316480174/bb8100354a00bd57992716db45cd2229_normal.jpeg',\n",
       "  u'profile_image_url_https': u'https://pbs.twimg.com/profile_images/3316480174/bb8100354a00bd57992716db45cd2229_normal.jpeg',\n",
       "  u'profile_link_color': u'0084B4',\n",
       "  u'profile_sidebar_border_color': u'616B99',\n",
       "  u'profile_sidebar_fill_color': u'A9C2DE',\n",
       "  u'profile_text_color': u'333333',\n",
       "  u'profile_use_background_image': True,\n",
       "  u'protected': False,\n",
       "  u'screen_name': u'MrPozzi',\n",
       "  u'statuses_count': 95,\n",
       "  u'time_zone': u'Rome',\n",
       "  u'translator_type': u'none',\n",
       "  u'url': u'http://t.co/RQa8T3R5Xx',\n",
       "  u'utc_offset': 7200,\n",
       "  u'verified': False}}"
      ]
     },
     "execution_count": 168,
     "metadata": {},
     "output_type": "execute_result"
    }
   ],
   "source": [
    "t.statuses.update(status=\"\"\"\n",
    "San Francisco Bay Entrance (Golden Gate)\n",
    "YYYY-MM-DD\n",
    "Sun   HH:MM-HH:MM \n",
    "Flood HH:MM-HH:MM (max x.y knots)\n",
    "Ebb   HH:MM-HH:MM (max x.y knots)\n",
    "\"\"\")"
   ]
  },
  {
   "cell_type": "code",
   "execution_count": null,
   "metadata": {
    "collapsed": false
   },
   "outputs": [],
   "source": [
    "'http://tides.mobilegeographics.com/zones/'\n",
    "'http://tides.mobilegeographics.com/zones/:Europe/'\n",
    "'http://tides.mobilegeographics.com/zones/:Europe/Gibraltar'\n",
    "\n",
    "'http://tides.mobilegeographics.com/index.html'"
   ]
  },
  {
   "cell_type": "code",
   "execution_count": 40,
   "metadata": {
    "collapsed": false
   },
   "outputs": [],
   "source": [
    "url='https://tidesandcurrents.noaa.gov/stationhome.html?id=9414290#sensors'\n",
    "flob = urllib2.urlopen(url)\n",
    "s = flob.read()\n",
    "flob.close()\n",
    "soup = BeautifulSoup(s)"
   ]
  },
  {
   "cell_type": "code",
   "execution_count": 68,
   "metadata": {
    "collapsed": false,
    "scrolled": false
   },
   "outputs": [
    {
     "data": {
      "text/plain": [
       "[<div id=\"wltext\"></div>]"
      ]
     },
     "execution_count": 68,
     "metadata": {},
     "output_type": "execute_result"
    }
   ],
   "source": [
    "#dat = soup.findAll('div', {'class':'row-fluid'})\n",
    "#for i in range(len(dat)):\n",
    "#for sss in soup.findAll('div', {'id':'attext'}):\n",
    "\n",
    "dat[11].findAll('div', {'id': 'wltext'})"
   ]
  },
  {
   "cell_type": "code",
   "execution_count": 69,
   "metadata": {
    "collapsed": false
   },
   "outputs": [
    {
     "name": "stdout",
     "output_type": "stream",
     "text": [
      "San Francisco Bay Entrance (Golden Gate), California Current\n",
      "37.8167° N, 122.4833° W\n",
      "\n",
      "2017-06-15 Thu  3:40 PM PDT    3.0 knots  Max Flood\n",
      "2017-06-15 Thu  7:14 PM PDT   -0.0 knots  Slack, Ebb Begins\n",
      "2017-06-15 Thu  8:33 PM PDT   Sunset\n",
      "2017-06-15 Thu  9:37 PM PDT   -2.3 knots  Max Ebb\n",
      "2017-06-16 Fri  1:11 AM PDT    0.0 knots  Slack, Flood Begins\n",
      "2017-06-16 Fri  3:46 AM PDT    1.6 knots  Max Flood\n",
      "2017-06-16 Fri  5:47 AM PDT   Sunrise\n",
      "2017-06-16 Fri  6:19 AM PDT   -0.0 knots  Slack, Ebb Begins\n",
      "2017-06-16 Fri  9:45 AM PDT   -3.3 knots  Max Ebb\n",
      "2017-06-16 Fri  1:17 PM PDT    0.0 knots  Slack, Flood Begins\n",
      "2017-06-16 Fri  4:31 PM PDT    2.9 knots  Max Flood\n",
      "2017-06-16 Fri  8:00 PM PDT   -0.0 knots  Slack, Ebb Begins\n",
      "2017-06-16 Fri  8:34 PM PDT   Sunset\n",
      "2017-06-16 Fri 10:33 PM PDT   -2.6 knots  Max Ebb\n",
      "2017-06-17 Sat  2:24 AM PDT    0.0 knots  Slack, Flood Begins\n",
      "2017-06-17 Sat  4:35 AM PDT   Last Quarter\n",
      "2017-06-17 Sat  4:53 AM PDT    1.7 knots  Max Flood\n",
      "2017-06-17 Sat  5:47 AM PDT   Sunrise\n",
      "2017-06-17 Sat  7:37 AM PDT   -0.0 knots  Slack, Ebb Begins\n",
      "2017-06-17 Sat 10:43 AM PDT   -3.0 knots  Max Ebb\n",
      "2017-06-17 Sat  2:12 PM PDT    0.0 knots  Slack, Flood Begins\n",
      "2017-06-17 Sat  5:25 PM PDT    2.9 knots  Max Flood\n",
      "2017-06-17 Sat  8:34 PM PDT   Sunset\n",
      "2017-06-17 Sat  8:47 PM PDT   -0.0 knots  Slack, Ebb Begins\n",
      "2017-06-17 Sat 11:30 PM PDT   -3.0 knots  Max Ebb\n",
      "2017-06-18 Sun  3:30 AM PDT    0.0 knots  Slack, Flood Begins\n",
      "2017-06-18 Sun  5:47 AM PDT   Sunrise\n",
      "2017-06-18 Sun  6:03 AM PDT    2.0 knots  Max Flood\n",
      "2017-06-18 Sun  9:00 AM PDT   -0.0 knots  Slack, Ebb Begins\n",
      "2017-06-18 Sun 11:44 AM PDT   -2.8 knots  Max Ebb\n",
      "2017-06-18 Sun  3:11 PM PDT    0.0 knots  Slack, Flood Begins\n",
      "2017-06-18 Sun  6:20 PM PDT    2.9 knots  Max Flood\n",
      "2017-06-18 Sun  8:34 PM PDT   Sunset\n",
      "2017-06-18 Sun  9:34 PM PDT   -0.0 knots  Slack, Ebb Begins\n",
      "2017-06-19 Mon 12:27 AM PDT   -3.6 knots  Max Ebb\n",
      "2017-06-19 Mon  4:29 AM PDT    0.0 knots  Slack, Flood Begins\n",
      "2017-06-19 Mon  5:47 AM PDT   Sunrise\n",
      "2017-06-19 Mon  7:11 AM PDT    2.5 knots  Max Flood\n",
      "2017-06-19 Mon 10:16 AM PDT   -0.0 knots  Slack, Ebb Begins\n",
      "2017-06-19 Mon 12:46 PM PDT   -2.7 knots  Max Ebb\n",
      "2017-06-19 Mon  4:10 PM PDT    0.0 knots  Slack, Flood Begins\n",
      "\n"
     ]
    }
   ],
   "source": [
    "url='http://tides.mobilegeographics.com/locations/5545.html'\n",
    "\n",
    "flob = urllib2.urlopen(url)\n",
    "s = flob.read()\n",
    "flob.close()\n",
    "soup = BeautifulSoup(s)\n",
    "print soup.findAll('pre', {'class':'predictions-table'})[0].get_text()"
   ]
  },
  {
   "cell_type": "code",
   "execution_count": 171,
   "metadata": {
    "collapsed": false
   },
   "outputs": [],
   "source": [
    "s = tide_table[5]"
   ]
  },
  {
   "cell_type": "code",
   "execution_count": 177,
   "metadata": {
    "collapsed": false
   },
   "outputs": [
    {
     "data": {
      "text/plain": [
       "20"
      ]
     },
     "execution_count": 177,
     "metadata": {},
     "output_type": "execute_result"
    }
   ],
   "source": []
  },
  {
   "cell_type": "code",
   "execution_count": 167,
   "metadata": {
    "collapsed": false,
    "scrolled": false
   },
   "outputs": [],
   "source": [
    "tide_table = soup.findAll('pre', {'class':'predictions-table'})[0].get_text().split('\\n')\n",
    "location = tide_table[0]\n",
    "def parse_tides(s):\n",
    "    tokens = s.split('PDT')\n",
    "    ts = parse(tokens[0]).replace(tzinfo=pytz.timezone('US/Pacific'))\n",
    "    conditions = tokens[1].split('knots')\n",
    "    \n",
    "    try:\n",
    "        knots = float(conditions[0].replace(' ', ''))\n",
    "        conditions = conditions[1].replace(' ', '').replace(',', '')\n",
    "    except ValueError:\n",
    "        knots = np.NaN\n",
    "        conditions = 'Sunrise' if ts.hour<12 else 'Sunset'\n",
    "    return({\n",
    "        'time':ts,\n",
    "        'knots':knots,\n",
    "        'conditions':conditions\n",
    "     })\n",
    "\n",
    "tides = pd.DataFrame([parse_tides(tide) for tide in tide_table[3:-1]])\n",
    "tides = tides.set_index('time')\n",
    "tides.index = pd.DatetimeIndex(tides.index)\n"
   ]
  },
  {
   "cell_type": "code",
   "execution_count": 142,
   "metadata": {
    "collapsed": false
   },
   "outputs": [
    {
     "data": {
      "text/plain": [
       "datetime.date(2017, 6, 16)"
      ]
     },
     "execution_count": 142,
     "metadata": {},
     "output_type": "execute_result"
    }
   ],
   "source": [
    "\n",
    "def format_tides_info(tides, day = str(datetime.date.today() + datetime.timedelta(hours=24))):\n",
    "    tides[tides.conditions!='Sunset'][day:day]\n",
    "    sun_times = tides[tides.conditions=='Sunset'][day:day].index.strftime('%H:%M').tolist()\n",
    "    \"\"\"{0}: Sun rises at {1}, sets at {2}\"\"\".format(day, sun_times[0], sun_times[1])\n",
    "    \n",
    "    \n",
    "    Flood begin:end (Max)\n",
    "        \n",
    "    OR\n",
    "    \n",
    "    Flood until end (Max)\n",
    "    \n",
    "    Ebb   begin:end (Max)\n",
    "        "
   ]
  },
  {
   "cell_type": "code",
   "execution_count": 144,
   "metadata": {
    "collapsed": false
   },
   "outputs": [
    {
     "data": {
      "text/html": [
       "<div>\n",
       "<style>\n",
       "    .dataframe thead tr:only-child th {\n",
       "        text-align: right;\n",
       "    }\n",
       "\n",
       "    .dataframe thead th {\n",
       "        text-align: left;\n",
       "    }\n",
       "\n",
       "    .dataframe tbody tr th {\n",
       "        vertical-align: top;\n",
       "    }\n",
       "</style>\n",
       "<table border=\"1\" class=\"dataframe\">\n",
       "  <thead>\n",
       "    <tr style=\"text-align: right;\">\n",
       "      <th></th>\n",
       "      <th>conditions</th>\n",
       "      <th>knots</th>\n",
       "    </tr>\n",
       "    <tr>\n",
       "      <th>time</th>\n",
       "      <th></th>\n",
       "      <th></th>\n",
       "    </tr>\n",
       "  </thead>\n",
       "  <tbody>\n",
       "    <tr>\n",
       "      <th>2017-06-16 02:04:00-07:00</th>\n",
       "      <td>SlackFloodBegins</td>\n",
       "      <td>0.0</td>\n",
       "    </tr>\n",
       "    <tr>\n",
       "      <th>2017-06-16 04:39:00-07:00</th>\n",
       "      <td>MaxFlood</td>\n",
       "      <td>1.6</td>\n",
       "    </tr>\n",
       "    <tr>\n",
       "      <th>2017-06-16 07:12:00-07:00</th>\n",
       "      <td>SlackEbbBegins</td>\n",
       "      <td>-0.0</td>\n",
       "    </tr>\n",
       "    <tr>\n",
       "      <th>2017-06-16 10:38:00-07:00</th>\n",
       "      <td>MaxEbb</td>\n",
       "      <td>-3.3</td>\n",
       "    </tr>\n",
       "    <tr>\n",
       "      <th>2017-06-16 14:10:00-07:00</th>\n",
       "      <td>SlackFloodBegins</td>\n",
       "      <td>0.0</td>\n",
       "    </tr>\n",
       "    <tr>\n",
       "      <th>2017-06-16 17:24:00-07:00</th>\n",
       "      <td>MaxFlood</td>\n",
       "      <td>2.9</td>\n",
       "    </tr>\n",
       "    <tr>\n",
       "      <th>2017-06-16 20:53:00-07:00</th>\n",
       "      <td>SlackEbbBegins</td>\n",
       "      <td>-0.0</td>\n",
       "    </tr>\n",
       "    <tr>\n",
       "      <th>2017-06-16 23:26:00-07:00</th>\n",
       "      <td>MaxEbb</td>\n",
       "      <td>-2.6</td>\n",
       "    </tr>\n",
       "  </tbody>\n",
       "</table>\n",
       "</div>"
      ],
      "text/plain": [
       "                                 conditions  knots\n",
       "time                                              \n",
       "2017-06-16 02:04:00-07:00  SlackFloodBegins    0.0\n",
       "2017-06-16 04:39:00-07:00          MaxFlood    1.6\n",
       "2017-06-16 07:12:00-07:00    SlackEbbBegins   -0.0\n",
       "2017-06-16 10:38:00-07:00            MaxEbb   -3.3\n",
       "2017-06-16 14:10:00-07:00  SlackFloodBegins    0.0\n",
       "2017-06-16 17:24:00-07:00          MaxFlood    2.9\n",
       "2017-06-16 20:53:00-07:00    SlackEbbBegins   -0.0\n",
       "2017-06-16 23:26:00-07:00            MaxEbb   -2.6"
      ]
     },
     "execution_count": 144,
     "metadata": {},
     "output_type": "execute_result"
    }
   ],
   "source": [
    "San Francisco Bay Entrance (Golden Gate)\n",
    "YYYY-MM-DD\n",
    "Sun   HH:MM-HH:MM \n",
    "Flood HH:MM-HH:MM (max x.y knots)\n",
    "        \n",
    "OR\n",
    "\n",
    "Flood until HH:MM (max x.y knots)\n",
    "\n",
    "Ebb   HH:MM-HH:MM (max x.y knots)"
   ]
  },
  {
   "cell_type": "code",
   "execution_count": 166,
   "metadata": {
    "collapsed": false
   },
   "outputs": [
    {
     "data": {
      "text/plain": [
       "'2017-06-16: Sun rises at 06:40, sets at 21:27'"
      ]
     },
     "execution_count": 166,
     "metadata": {},
     "output_type": "execute_result"
    }
   ],
   "source": [
    "\n"
   ]
  },
  {
   "cell_type": "code",
   "execution_count": 104,
   "metadata": {
    "collapsed": false
   },
   "outputs": [
    {
     "data": {
      "text/plain": [
       "[u'2017-06-15 Thu  3:40 PM PDT    3.0 knots  Max Flood',\n",
       " u'2017-06-15 Thu  7:14 PM PDT   -0.0 knots  Slack, Ebb Begins',\n",
       " u'2017-06-15 Thu  8:33 PM PDT   Sunset',\n",
       " u'2017-06-15 Thu  9:37 PM PDT   -2.3 knots  Max Ebb',\n",
       " u'2017-06-16 Fri  1:11 AM PDT    0.0 knots  Slack, Flood Begins']"
      ]
     },
     "execution_count": 104,
     "metadata": {},
     "output_type": "execute_result"
    }
   ],
   "source": [
    "tide_table[3:8]"
   ]
  },
  {
   "cell_type": "code",
   "execution_count": 110,
   "metadata": {
    "collapsed": false
   },
   "outputs": [
    {
     "data": {
      "text/plain": [
       "[u'2017-06-15 Thu  7:14 PM ', u'   -0.0 knots  Slack, Ebb Begins']"
      ]
     },
     "execution_count": 110,
     "metadata": {},
     "output_type": "execute_result"
    }
   ],
   "source": [
    "tide_table[4].split('PDT')#[1].split('  ')"
   ]
  },
  {
   "cell_type": "code",
   "execution_count": 118,
   "metadata": {
    "collapsed": false
   },
   "outputs": [
    {
     "data": {
      "text/plain": [
       "-0.0"
      ]
     },
     "execution_count": 118,
     "metadata": {},
     "output_type": "execute_result"
    }
   ],
   "source": [
    "float(tide_table[4].split('PDT')[1].split('knots')[0].replace(' ', ''))"
   ]
  },
  {
   "cell_type": "code",
   "execution_count": null,
   "metadata": {
    "collapsed": false
   },
   "outputs": [],
   "source": []
  },
  {
   "cell_type": "code",
   "execution_count": null,
   "metadata": {
    "collapsed": false
   },
   "outputs": [],
   "source": []
  },
  {
   "cell_type": "code",
   "execution_count": 94,
   "metadata": {
    "collapsed": true
   },
   "outputs": [],
   "source": []
  },
  {
   "cell_type": "code",
   "execution_count": 97,
   "metadata": {
    "collapsed": false
   },
   "outputs": [
    {
     "data": {
      "text/plain": [
       "datetime.datetime(2017, 6, 15, 15, 40, tzinfo=<DstTzInfo 'US/Pacific' LMT-1 day, 16:07:00 STD>)"
      ]
     },
     "execution_count": 97,
     "metadata": {},
     "output_type": "execute_result"
    }
   ],
   "source": []
  },
  {
   "cell_type": "code",
   "execution_count": 93,
   "metadata": {
    "collapsed": false
   },
   "outputs": [
    {
     "data": {
      "text/plain": [
       "u'2017-06-15 Thu  3:40 PM PDT'"
      ]
     },
     "execution_count": 93,
     "metadata": {},
     "output_type": "execute_result"
    }
   ],
   "source": [
    "time"
   ]
  },
  {
   "cell_type": "code",
   "execution_count": null,
   "metadata": {
    "collapsed": true
   },
   "outputs": [],
   "source": []
  }
 ],
 "metadata": {
  "anaconda-cloud": {},
  "kernelspec": {
   "display_name": "Python [Root]",
   "language": "python",
   "name": "Python [Root]"
  },
  "language_info": {
   "codemirror_mode": {
    "name": "ipython",
    "version": 2
   },
   "file_extension": ".py",
   "mimetype": "text/x-python",
   "name": "python",
   "nbconvert_exporter": "python",
   "pygments_lexer": "ipython2",
   "version": "2.7.12"
  }
 },
 "nbformat": 4,
 "nbformat_minor": 0
}
